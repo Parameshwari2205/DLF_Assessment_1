{
 "cells": [
  {
   "cell_type": "code",
   "execution_count": 1,
   "id": "64d6f51a-e85d-48ee-8557-0a09049bb7db",
   "metadata": {},
   "outputs": [],
   "source": [
    "import pandas as pd\n",
    "import numpy as np\n",
    "import matplotlib.pyplot as plt\n",
    "from sklearn.metrics import precision_score, recall_score, f1_score\n",
    "from sklearn.metrics import accuracy_score\n",
    "from sklearn.model_selection import train_test_split\n",
    "from sklearn.preprocessing import StandardScaler\n",
    "from sklearn.metrics import confusion_matrix, ConfusionMatrixDisplay"
   ]
  },
  {
   "cell_type": "code",
   "execution_count": 2,
   "id": "fa521b5d-f62d-4c71-a7c1-1284fbb0113d",
   "metadata": {},
   "outputs": [
    {
     "data": {
      "text/html": [
       "<div>\n",
       "<style scoped>\n",
       "    .dataframe tbody tr th:only-of-type {\n",
       "        vertical-align: middle;\n",
       "    }\n",
       "\n",
       "    .dataframe tbody tr th {\n",
       "        vertical-align: top;\n",
       "    }\n",
       "\n",
       "    .dataframe thead th {\n",
       "        text-align: right;\n",
       "    }\n",
       "</style>\n",
       "<table border=\"1\" class=\"dataframe\">\n",
       "  <thead>\n",
       "    <tr style=\"text-align: right;\">\n",
       "      <th></th>\n",
       "      <th>Pregnancies</th>\n",
       "      <th>Glucose</th>\n",
       "      <th>BloodPressure</th>\n",
       "      <th>SkinThickness</th>\n",
       "      <th>Insulin</th>\n",
       "      <th>BMI</th>\n",
       "      <th>DiabetesPedigreeFunction</th>\n",
       "      <th>Age</th>\n",
       "      <th>Outcome</th>\n",
       "    </tr>\n",
       "  </thead>\n",
       "  <tbody>\n",
       "    <tr>\n",
       "      <th>count</th>\n",
       "      <td>768.000000</td>\n",
       "      <td>768.000000</td>\n",
       "      <td>768.000000</td>\n",
       "      <td>768.000000</td>\n",
       "      <td>768.000000</td>\n",
       "      <td>768.000000</td>\n",
       "      <td>768.000000</td>\n",
       "      <td>768.000000</td>\n",
       "      <td>768.000000</td>\n",
       "    </tr>\n",
       "    <tr>\n",
       "      <th>mean</th>\n",
       "      <td>3.845052</td>\n",
       "      <td>120.894531</td>\n",
       "      <td>69.105469</td>\n",
       "      <td>20.536458</td>\n",
       "      <td>79.799479</td>\n",
       "      <td>31.992578</td>\n",
       "      <td>0.471876</td>\n",
       "      <td>33.240885</td>\n",
       "      <td>0.348958</td>\n",
       "    </tr>\n",
       "    <tr>\n",
       "      <th>std</th>\n",
       "      <td>3.369578</td>\n",
       "      <td>31.972618</td>\n",
       "      <td>19.355807</td>\n",
       "      <td>15.952218</td>\n",
       "      <td>115.244002</td>\n",
       "      <td>7.884160</td>\n",
       "      <td>0.331329</td>\n",
       "      <td>11.760232</td>\n",
       "      <td>0.476951</td>\n",
       "    </tr>\n",
       "    <tr>\n",
       "      <th>min</th>\n",
       "      <td>0.000000</td>\n",
       "      <td>0.000000</td>\n",
       "      <td>0.000000</td>\n",
       "      <td>0.000000</td>\n",
       "      <td>0.000000</td>\n",
       "      <td>0.000000</td>\n",
       "      <td>0.078000</td>\n",
       "      <td>21.000000</td>\n",
       "      <td>0.000000</td>\n",
       "    </tr>\n",
       "    <tr>\n",
       "      <th>25%</th>\n",
       "      <td>1.000000</td>\n",
       "      <td>99.000000</td>\n",
       "      <td>62.000000</td>\n",
       "      <td>0.000000</td>\n",
       "      <td>0.000000</td>\n",
       "      <td>27.300000</td>\n",
       "      <td>0.243750</td>\n",
       "      <td>24.000000</td>\n",
       "      <td>0.000000</td>\n",
       "    </tr>\n",
       "    <tr>\n",
       "      <th>50%</th>\n",
       "      <td>3.000000</td>\n",
       "      <td>117.000000</td>\n",
       "      <td>72.000000</td>\n",
       "      <td>23.000000</td>\n",
       "      <td>30.500000</td>\n",
       "      <td>32.000000</td>\n",
       "      <td>0.372500</td>\n",
       "      <td>29.000000</td>\n",
       "      <td>0.000000</td>\n",
       "    </tr>\n",
       "    <tr>\n",
       "      <th>75%</th>\n",
       "      <td>6.000000</td>\n",
       "      <td>140.250000</td>\n",
       "      <td>80.000000</td>\n",
       "      <td>32.000000</td>\n",
       "      <td>127.250000</td>\n",
       "      <td>36.600000</td>\n",
       "      <td>0.626250</td>\n",
       "      <td>41.000000</td>\n",
       "      <td>1.000000</td>\n",
       "    </tr>\n",
       "    <tr>\n",
       "      <th>max</th>\n",
       "      <td>17.000000</td>\n",
       "      <td>199.000000</td>\n",
       "      <td>122.000000</td>\n",
       "      <td>99.000000</td>\n",
       "      <td>846.000000</td>\n",
       "      <td>67.100000</td>\n",
       "      <td>2.420000</td>\n",
       "      <td>81.000000</td>\n",
       "      <td>1.000000</td>\n",
       "    </tr>\n",
       "  </tbody>\n",
       "</table>\n",
       "</div>"
      ],
      "text/plain": [
       "       Pregnancies     Glucose  BloodPressure  SkinThickness     Insulin  \\\n",
       "count   768.000000  768.000000     768.000000     768.000000  768.000000   \n",
       "mean      3.845052  120.894531      69.105469      20.536458   79.799479   \n",
       "std       3.369578   31.972618      19.355807      15.952218  115.244002   \n",
       "min       0.000000    0.000000       0.000000       0.000000    0.000000   \n",
       "25%       1.000000   99.000000      62.000000       0.000000    0.000000   \n",
       "50%       3.000000  117.000000      72.000000      23.000000   30.500000   \n",
       "75%       6.000000  140.250000      80.000000      32.000000  127.250000   \n",
       "max      17.000000  199.000000     122.000000      99.000000  846.000000   \n",
       "\n",
       "              BMI  DiabetesPedigreeFunction         Age     Outcome  \n",
       "count  768.000000                768.000000  768.000000  768.000000  \n",
       "mean    31.992578                  0.471876   33.240885    0.348958  \n",
       "std      7.884160                  0.331329   11.760232    0.476951  \n",
       "min      0.000000                  0.078000   21.000000    0.000000  \n",
       "25%     27.300000                  0.243750   24.000000    0.000000  \n",
       "50%     32.000000                  0.372500   29.000000    0.000000  \n",
       "75%     36.600000                  0.626250   41.000000    1.000000  \n",
       "max     67.100000                  2.420000   81.000000    1.000000  "
      ]
     },
     "execution_count": 2,
     "metadata": {},
     "output_type": "execute_result"
    }
   ],
   "source": [
    "# load the dataset\n",
    "data = pd.read_csv('diabetes.csv')\n",
    "#description of the dataset\n",
    "data.describe()"
   ]
  },
  {
   "cell_type": "code",
   "execution_count": 3,
   "id": "d90e65d2-2ccb-45fd-99f4-baef309b3e4c",
   "metadata": {},
   "outputs": [],
   "source": [
    "#seperating the features(X) and labels(y)\n",
    "X = data.iloc[:, :-1].values\n",
    "y = data.iloc[:, -1].values"
   ]
  },
  {
   "cell_type": "code",
   "execution_count": 4,
   "id": "b657c885-6f8e-419e-a9a9-7f92483e82de",
   "metadata": {},
   "outputs": [],
   "source": [
    "#split the dataset into training and testing sets\n",
    "X_train, X_test, y_train, y_test = train_test_split(X,y, test_size=0.2, random_state = 42)"
   ]
  },
  {
   "cell_type": "code",
   "execution_count": 5,
   "id": "99065cea-22c1-42f0-b3bb-9bedf4e33657",
   "metadata": {},
   "outputs": [],
   "source": [
    "#Normalize the features\n",
    "scaler = StandardScaler()\n",
    "X_train = scaler.fit_transform(X_train)\n",
    "X_test = scaler.transform(X_test)"
   ]
  },
  {
   "cell_type": "code",
   "execution_count": 10,
   "id": "db5ee916-0f9a-4b7e-b0c2-737d1990a393",
   "metadata": {},
   "outputs": [],
   "source": [
    "#sigmoid function and its derivative\n",
    "def sigmoid(x):\n",
    "    return 1 / (1+np.exp(-x))\n",
    "\n",
    "#Perceptron class with activtion and optimizer\n",
    "class Perceptron:\n",
    "    def __init__(self, learning_rate=0.01, iters= 1000):\n",
    "        self.lr = learning_rate\n",
    "        self.iters = iters\n",
    "        self.weights = None\n",
    "        self.bias = None\n",
    "\n",
    "    def fit(self, X, y):\n",
    "        samples, features = X.shape\n",
    "        #initialise weights and bias\n",
    "        self.weights =np.zeros(features)\n",
    "        self.bias = 0\n",
    "        #training using SGD\n",
    "        for i in range(self.iters):\n",
    "            for index, x_i in enumerate(X):\n",
    "                linear_output = np.dot(x_i, self.weights) + self.bias\n",
    "                y_pred = sigmoid(linear_output)\n",
    "                error = y[index] - y_pred\n",
    "\n",
    "                #update weights and bias\n",
    "                self.weights += self.lr * error * x_i\n",
    "                self.bias += self.lr * error\n",
    "\n",
    "    def predict(self, X):\n",
    "        linear_output = np.dot(X, self.weights) + self.bias\n",
    "        y_pred = sigmoid(linear_output)\n",
    "        return np.where(y_pred > 0.5, 1, 0)"
   ]
  },
  {
   "cell_type": "code",
   "execution_count": 11,
   "id": "78f8e8a5-066a-4f99-af1f-459b0cc37367",
   "metadata": {},
   "outputs": [],
   "source": [
    "#train the perceptron model\n",
    "perceptron = Perceptron(learning_rate = 0.01, iters=1000)\n",
    "perceptron.fit(X_train, y_train)\n",
    "\n",
    "# make prediction on the test set\n",
    "prediction = perceptron.predict(X_test)"
   ]
  },
  {
   "cell_type": "code",
   "execution_count": 13,
   "id": "6525fc24-1cb3-45ec-aa2a-7d8a37a90a02",
   "metadata": {},
   "outputs": [
    {
     "name": "stdout",
     "output_type": "stream",
     "text": [
      "Model accuracy : 75.97%\n"
     ]
    }
   ],
   "source": [
    "#evaluate the accuracy of the model\n",
    "accuracy = accuracy_score(y_test, prediction)\n",
    "print(f\"Model accuracy : {accuracy * 100:.2f}%\")"
   ]
  },
  {
   "cell_type": "code",
   "execution_count": 15,
   "id": "dbfab24d-5ef4-45ad-b838-eea7c27164c3",
   "metadata": {},
   "outputs": [
    {
     "name": "stdout",
     "output_type": "stream",
     "text": [
      "Learning rate : 0.001, Iterations : 1000, Accuracy :  74.68 % \n",
      "Learning rate : 0.001, Iterations : 5000, Accuracy :  74.68 % \n",
      "Learning rate : 0.001, Iterations : 10000, Accuracy :  74.68 % \n",
      "Learning rate : 0.01, Iterations : 1000, Accuracy :  75.97 % \n",
      "Learning rate : 0.01, Iterations : 5000, Accuracy :  75.97 % \n",
      "Learning rate : 0.01, Iterations : 10000, Accuracy :  75.97 % \n",
      "Learning rate : 0.1, Iterations : 1000, Accuracy :  77.27 % \n",
      "Learning rate : 0.1, Iterations : 5000, Accuracy :  77.27 % \n",
      "Learning rate : 0.1, Iterations : 10000, Accuracy :  77.27 % \n"
     ]
    }
   ],
   "source": [
    "#experimenting with different learning rates and iterations\n",
    "learning_rates = [0.001,0.01,0.1]\n",
    "iterations = [1000,5000,10000]\n",
    "\n",
    "for lr in learning_rates:\n",
    "    for iter in iterations:\n",
    "        perceptron = Perceptron(learning_rate = lr, iters = iter)\n",
    "        perceptron.fit(X_train, y_train)\n",
    "        prediction = perceptron.predict(X_test)\n",
    "        accuracy = accuracy_score(y_test,prediction)\n",
    "        print(f\"Learning rate : {lr}, Iterations : {iter}, Accuracy : {accuracy * 100 : .2f} % \")\n",
    "        "
   ]
  },
  {
   "cell_type": "code",
   "execution_count": 17,
   "id": "f446217b-295e-4395-8e46-95b08fd887a0",
   "metadata": {},
   "outputs": [
    {
     "data": {
      "image/png": "[encoded data removed]",
      "text/plain": [
       "<Figure size 640x480 with 1 Axes>"
      ]
     },
     "metadata": {},
     "output_type": "display_data"
    }
   ],
   "source": [
    "#experimenting with different learning rates and iterations\n",
    "learning_rates = [0.001,0.01,0.1]\n",
    "iters = [1000,5000,10000]\n",
    "results = []\n",
    "\n",
    "for lr in learning_rates:\n",
    "    accuracies = []\n",
    "    for iter in iters:\n",
    "        perceptron = Perceptron(learning_rate = lr, iters = iter)\n",
    "        perceptron.fit(X_train, y_train)\n",
    "        predict = perceptron.predict(X_test)\n",
    "        accuracy = accuracy_score(y_test,predict)\n",
    "        accuracies.append(accuracy)\n",
    "    results.append(accuracies)\n",
    "\n",
    "#plotting the results\n",
    "for i,lr in enumerate(learning_rates):\n",
    "    plt.plot(iters, results[i],label=f'LR = {lr}')\n",
    "plt.xlabel('Iterations')\n",
    "plt.ylabel('Accuracy')\n",
    "plt.title('Accuracy vs iteration for different learning rates')\n",
    "plt.legend()\n",
    "plt.show()"
   ]
  },
  {
   "cell_type": "code",
   "execution_count": 21,
   "id": "2f80d42c-63d8-49c4-a234-2d7de34673e8",
   "metadata": {},
   "outputs": [
    {
     "data": {
      "image/png": "[encoded data removed]",
      "text/plain": [
       "<Figure size 640x480 with 2 Axes>"
      ]
     },
     "metadata": {},
     "output_type": "display_data"
    }
   ],
   "source": [
    "# after trained model and have predictions\n",
    "predict = perceptron.predict(X_test) # use the scaled test set\n",
    "# compute confusion matrix\n",
    "cm = confusion_matrix(y_test, prediction)\n",
    "# create a confusion matrix display\n",
    "displ = ConfusionMatrixDisplay(confusion_matrix = cm , display_labels=[0,1])\n",
    "displ.plot(cmap = plt.cm.Blues)\n",
    "plt.title('Confusion Matrix')\n",
    "plt.show()"
   ]
  },
  {
   "cell_type": "code",
   "execution_count": 22,
   "id": "99799694-2f91-4aab-b5a6-dbc1facd1c7a",
   "metadata": {},
   "outputs": [
    {
     "name": "stdout",
     "output_type": "stream",
     "text": [
      "Precision:0.68\n",
      "Recall:0.69\n",
      "F1-Score:0.68\n"
     ]
    }
   ],
   "source": [
    "#precision\n",
    "precision = precision_score(y_test, predict)\n",
    "recall = recall_score(y_test, predict)\n",
    "f1 = f1_score(y_test, predict)\n",
    "print(f\"Precision:{precision:.2f}\")\n",
    "print(f\"Recall:{recall:.2f}\")\n",
    "print(f\"F1-Score:{f1:.2f}\")"
   ]
  },
  {
   "cell_type": "code",
   "execution_count": null,
   "id": "d7c14c0a-0c0b-4f39-931f-734dc45488eb",
   "metadata": {},
   "outputs": [],
   "source": []
  }
 ],
 "metadata": {
  "kernelspec": {
   "display_name": "Python 3 (ipykernel)",
   "language": "python",
   "name": "python3"
  },
  "language_info": {
   "codemirror_mode": {
    "name": "ipython",
    "version": 3
   },
   "file_extension": ".py",
   "mimetype": "text/x-python",
   "name": "python",
   "nbconvert_exporter": "python",
   "pygments_lexer": "ipython3",
   "version": "3.11.7"
  }
 },
 "nbformat": 4,
 "nbformat_minor": 5
}
